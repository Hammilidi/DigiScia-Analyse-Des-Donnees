{
 "cells": [
  {
   "cell_type": "code",
   "execution_count": 1,
   "id": "73387120",
   "metadata": {},
   "outputs": [],
   "source": [
    "import pandas as pd"
   ]
  },
  {
   "cell_type": "code",
   "execution_count": 2,
   "id": "64445015",
   "metadata": {},
   "outputs": [],
   "source": [
    "# Création du premier DataFrame\n",
    "data1 = {\n",
    "    'ID': [1, 2, 3, 4],\n",
    "    'Nom': ['Alice', 'Bob', 'Charlie', 'David']\n",
    "}\n",
    "df1 = pd.DataFrame(data1)\n",
    "\n",
    "# Création du deuxième DataFrame\n",
    "data2 = {\n",
    "    'ID': [1, 2, 3, 5],\n",
    "    'Score': [85, 90, 78, 88]\n",
    "}\n",
    "df2 = pd.DataFrame(data2)"
   ]
  },
  {
   "cell_type": "code",
   "execution_count": 10,
   "id": "c5d3e975",
   "metadata": {},
   "outputs": [
    {
     "name": "stdout",
     "output_type": "stream",
     "text": [
      "Le fichier CSV a été créé avec succès.\n"
     ]
    }
   ],
   "source": [
    "# Fusion des deux DataFrames sur la colonne 'ID'\n",
    "df_merged = pd.merge(df1, df2, on='ID', how='outer')\n",
    "\n",
    "# Affichage du DataFrame fusionné\n",
    "df_merged\n",
    "\n",
    "# # Export du DataFrame fusionné en fichier CSV\n",
    "df_merged.to_csv('data/data_merged.csv', index=False)\n",
    "\n",
    "print(\"Le fichier CSV a été créé avec succès.\")"
   ]
  },
  {
   "cell_type": "code",
   "execution_count": null,
   "id": "7247977e",
   "metadata": {},
   "outputs": [],
   "source": []
  }
 ],
 "metadata": {
  "kernelspec": {
   "display_name": "Python 3 (ipykernel)",
   "language": "python",
   "name": "python3"
  },
  "language_info": {
   "codemirror_mode": {
    "name": "ipython",
    "version": 3
   },
   "file_extension": ".py",
   "mimetype": "text/x-python",
   "name": "python",
   "nbconvert_exporter": "python",
   "pygments_lexer": "ipython3",
   "version": "3.11.5"
  }
 },
 "nbformat": 4,
 "nbformat_minor": 5
}
